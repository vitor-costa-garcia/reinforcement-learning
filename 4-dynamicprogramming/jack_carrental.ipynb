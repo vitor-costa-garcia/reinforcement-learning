{
 "cells": [
  {
   "cell_type": "code",
   "execution_count": 2,
   "id": "d2b485bb",
   "metadata": {},
   "outputs": [],
   "source": [
    "import numpy as np\n",
    "from scipy.stats import poisson"
   ]
  },
  {
   "cell_type": "code",
   "execution_count": 15,
   "id": "9c60d159",
   "metadata": {},
   "outputs": [],
   "source": [
    "#Example 4.2 - Jack's Car Rental\n",
    "ACTIONS = np.arange(-5, 6)\n",
    "MAX_CARS_LOC = 20\n",
    "N_CARS_PER_LOC = (MAX_CARS_LOC + 1)    #[0, 20]\n",
    "N_STATES = N_CARS_PER_LOC * N_CARS_PER_LOC\n",
    "CAR_RENT_COST = 10\n",
    "CAR_MOVE_COST = -2\n",
    "\n",
    "LAMBDA_RET_LOC1 = 3\n",
    "LAMBDA_RET_LOC2 = 2\n",
    "LAMBDA_RNT_LOC1 = 3\n",
    "LAMBDA_RNT_LOC2 = 4\n",
    "\n",
    "MAX_POISSON_OUTCOME = 10\n",
    "GAMMA = 0.9\n",
    "THETA = 1e-4"
   ]
  },
  {
   "cell_type": "code",
   "execution_count": null,
   "id": "33535364",
   "metadata": {},
   "outputs": [],
   "source": [
    "def calculate_expected_val(state, action): #R(s, a) | P(s' |s, a)\n",
    "    n1_end_prev, n2_end_prev = divmod(state, N_CARS_PER_LOC)\n",
    "\n",
    "    expected_total_reward = 0.0\n",
    "    n1_after_move = n1_end_prev - action\n",
    "    n2_after_move = n2_end_prev + action\n",
    "\n",
    "    next_state_prob = np.zeros(N_STATES)\n",
    "\n",
    "    n1_start_day = min(max(0, n1_after_move), MAX_CARS_LOC)\n",
    "    n2_start_day = min(max(0, n2_after_move), MAX_CARS_LOC)\n",
    "\n",
    "    move_cost = abs(action) * CAR_MOVE_COST\n",
    "\n",
    "    for req1 in range(MAX_POISSON_OUTCOME + 1):\n",
    "        prob_req1 = poisson.pmf(req1, LAMBDA_RNT_LOC1)\n",
    "        for req2 in range(MAX_POISSON_OUTCOME + 1):\n",
    "            prob_req2 = poisson.pmf(req2, LAMBDA_RNT_LOC2)\n",
    "            for ret1 in range(MAX_POISSON_OUTCOME + 1):\n",
    "                prob_ret1 = poisson.pmf(ret1, LAMBDA_RET_LOC1)\n",
    "                for ret2 in range(MAX_POISSON_OUTCOME + 1):\n",
    "                    prob_ret2 = poisson.pmf(ret2, LAMBDA_RET_LOC2)\n",
    "\n",
    "                    prob_joint_outcome = prob_req1 * prob_req2 * prob_ret1 * prob_ret2\n",
    "\n",
    "                    # Calculate actual rentals\n",
    "                    rented_1 = min(n1_start_day, req1)\n",
    "                    rented_2 = min(n2_start_day, req2)\n",
    "                    \n",
    "                    # Calculate immediate reward\n",
    "                    rental_income = (rented_1 + rented_2) * CAR_RENT_COST\n",
    "                    current_reward = rental_income - move_cost\n",
    "                    \n",
    "                    # Add to expected reward (weighted by probability of this outcome)\n",
    "                    expected_total_reward += prob_joint_outcome * current_reward\n",
    "\n",
    "                    # Calculate next state (number of cars at end of day)\n",
    "                    # Cars remaining after rentals (before returns are added to inventory for next day)\n",
    "                    cars_after_rentals_1 = n1_start_day - rented_1\n",
    "                    cars_after_rentals_2 = n2_start_day - rented_2\n",
    "\n",
    "                    # New inventory for next day's start (capped at MAX_CARS)\n",
    "                    # Returns become available for the *next* day.\n",
    "                    next_n1 = min(MAX_CARS_LOC, cars_after_rentals_1 + ret1)\n",
    "                    next_n2 = min(MAX_CARS_LOC, cars_after_rentals_2 + ret2)\n",
    "                    \n",
    "                    next_s_idx = next_n1 * N_CARS_PER_LOC + next_n2\n",
    "                    next_state_prob[next_s_idx] += prob_joint_outcome\n",
    "\n",
    "    sum_probs = np.sum(next_state_prob)\n",
    "    if sum_probs > 0:\n",
    "        next_state_prob /= sum_probs\n",
    "\n",
    "    return expected_total_reward, next_state_prob\n",
    "\n"
   ]
  },
  {
   "cell_type": "code",
   "execution_count": null,
   "id": "8fdc08ca",
   "metadata": {},
   "outputs": [],
   "source": []
  }
 ],
 "metadata": {
  "kernelspec": {
   "display_name": "Python 3",
   "language": "python",
   "name": "python3"
  },
  "language_info": {
   "codemirror_mode": {
    "name": "ipython",
    "version": 3
   },
   "file_extension": ".py",
   "mimetype": "text/x-python",
   "name": "python",
   "nbconvert_exporter": "python",
   "pygments_lexer": "ipython3",
   "version": "3.13.2"
  }
 },
 "nbformat": 4,
 "nbformat_minor": 5
}
