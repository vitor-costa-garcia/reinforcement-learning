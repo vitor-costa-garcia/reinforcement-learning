{
 "cells": [
  {
   "cell_type": "code",
   "execution_count": 1,
   "id": "2303bd96",
   "metadata": {},
   "outputs": [],
   "source": [
    "import numpy as np"
   ]
  },
  {
   "cell_type": "code",
   "execution_count": null,
   "id": "aae58344",
   "metadata": {},
   "outputs": [],
   "source": [
    "#Policy e-greedy\n",
    "# def e_greedy_action_choice(q_estimates, epsilon):\n",
    "#     if np.random.rand(1,1).item() <= epsilon:\n",
    "#         return np.random.randint(high=len(q_estimates))\n",
    "    \n",
    "#     else:\n",
    "#         return np.argmax(q_estimates)\n",
    "    \n",
    "# def e_greedy_policy(action_idx, state_idx, q_estimates, epsilon):\n",
    "#     \"\"\"\n",
    "#     π(a|s)\n",
    "#     Returns probability of taking action a given state s following a e-greedy policy\n",
    "#     \"\"\"\n",
    "#     if np.argmax(q_estimates[state_idx]) == action_idx:\n",
    "#         return (1 - epsilon) + (epsilon / len(q_estimates[state_idx]))\n",
    "#     return (epsilon / len(q_estimates[state_idx]))"
   ]
  },
  {
   "cell_type": "code",
   "execution_count": null,
   "id": "c5ae102d",
   "metadata": {},
   "outputs": [],
   "source": [
    "#Policy Evaluation\n",
    "actions = [(1,0), (-1,0), (0,-1), (0,1)]\n",
    "GRID = 4\n",
    "GAMMA = 1\n",
    "delta = 1\n",
    "THETA = 1e-4\n",
    "\n",
    "def step(state, action):\n",
    "    if state == 0 or state == 15:\n",
    "        return state, 0\n",
    "    \n",
    "    row, col = divmod(state, GRID)\n",
    "    step_i, step_j = action\n",
    "    new_row, new_col = step_i + row, step_j + col\n",
    "\n",
    "    if 0 <= new_row < GRID and 0 <= new_col < GRID:\n",
    "        return new_row * GRID + new_col, -1\n",
    "    else:\n",
    "        return state, -1\n",
    "\n",
    "v = np.zeros(GRID**2)\n",
    "\n",
    "while delta >= THETA:\n",
    "    delta = 0\n",
    "    for s in range(GRID**2):\n",
    "        v_old = v[s]\n",
    "        v_new = 0\n",
    "        for a in actions:\n",
    "            new_s, reward = step(s, a)\n",
    "            v_new += 0.25 * (reward + GAMMA * v[new_s])\n",
    "        v[s] = v_new\n",
    "        delta = max(delta, abs(v_old - v[s]))"
   ]
  },
  {
   "cell_type": "code",
   "execution_count": 56,
   "id": "d3bbc2fe",
   "metadata": {},
   "outputs": [
    {
     "data": {
      "text/plain": [
       "array([[  0.        , -13.99931242, -19.99901152, -21.99891199],\n",
       "       [-13.99931242, -17.99915625, -19.99908389, -19.99909436],\n",
       "       [-19.99901152, -19.99908389, -17.99922697, -13.99942284],\n",
       "       [-21.99891199, -19.99909436, -13.99942284,   0.        ]])"
      ]
     },
     "execution_count": 56,
     "metadata": {},
     "output_type": "execute_result"
    }
   ],
   "source": [
    "v.reshape(4,4)"
   ]
  },
  {
   "cell_type": "code",
   "execution_count": null,
   "id": "72108f3d",
   "metadata": {},
   "outputs": [],
   "source": []
  }
 ],
 "metadata": {
  "kernelspec": {
   "display_name": "Python 3",
   "language": "python",
   "name": "python3"
  },
  "language_info": {
   "codemirror_mode": {
    "name": "ipython",
    "version": 3
   },
   "file_extension": ".py",
   "mimetype": "text/x-python",
   "name": "python",
   "nbconvert_exporter": "python",
   "pygments_lexer": "ipython3",
   "version": "3.13.2"
  }
 },
 "nbformat": 4,
 "nbformat_minor": 5
}
