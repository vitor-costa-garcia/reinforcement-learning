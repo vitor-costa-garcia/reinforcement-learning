{
 "cells": [
  {
   "cell_type": "code",
   "execution_count": 2,
   "id": "2303bd96",
   "metadata": {},
   "outputs": [],
   "source": [
    "import numpy as np"
   ]
  },
  {
   "cell_type": "code",
   "execution_count": 3,
   "id": "aae58344",
   "metadata": {},
   "outputs": [],
   "source": [
    "#Policy e-greedy\n",
    "# def e_greedy_action_choice(q_estimates, epsilon):\n",
    "#     if np.random.rand(1,1).item() <= epsilon:\n",
    "#         return np.random.randint(high=len(q_estimates))\n",
    "    \n",
    "#     else:\n",
    "#         return np.argmax(q_estimates)\n",
    "    \n",
    "# def e_greedy_policy(action_idx, state_idx, q_estimates, epsilon):\n",
    "#     \"\"\"\n",
    "#     π(a|s)\n",
    "#     Returns probability of taking action a given state s following a e-greedy policy\n",
    "#     \"\"\"\n",
    "#     if np.argmax(q_estimates[state_idx]) == action_idx:\n",
    "#         return (1 - epsilon) + (epsilon / len(q_estimates[state_idx]))\n",
    "#     return (epsilon / len(q_estimates[state_idx]))"
   ]
  },
  {
   "cell_type": "code",
   "execution_count": 57,
   "id": "7495bf43",
   "metadata": {},
   "outputs": [],
   "source": [
    "def numpy_argmax_all_indices(arr):\n",
    "    \"\"\"\n",
    "    Returns a list of all indices where the maximum value occurs in a NumPy array.\n",
    "    \"\"\"\n",
    "    if arr.size == 0:\n",
    "        return []\n",
    "    \n",
    "    max_val = np.max(arr)\n",
    "    # np.where returns a tuple of arrays, one for each dimension.\n",
    "    # For a 1D array, it returns (array_of_indices,). We want the first element.\n",
    "    return np.where(arr == max_val)[0].tolist()"
   ]
  },
  {
   "cell_type": "code",
   "execution_count": 116,
   "id": "c5ae102d",
   "metadata": {},
   "outputs": [],
   "source": [
    "#Policy Evaluation\n",
    "ACTIONS = [(1,0), (-1,0), (0,-1), (0,1)]\n",
    "GRID = 4\n",
    "N_STATES = GRID**2\n",
    "GAMMA = 1\n",
    "delta = 0.01\n",
    "THETA = 1e-5\n",
    "r_policy = [[0,1,2,3] for _ in range(N_STATES)]\n",
    "\n",
    "def get_prob_policy(policy, state, action):\n",
    "    if action in policy[state]:\n",
    "        return 1/len(policy[state])\n",
    "    \n",
    "    return 0\n",
    "\n",
    "def step(state, action):\n",
    "    if state == 0 or state == N_STATES-1:\n",
    "        return state, 0\n",
    "    \n",
    "    row, col = divmod(state, GRID)\n",
    "    step_i, step_j = action\n",
    "    new_row, new_col = step_i + row, step_j + col\n",
    "\n",
    "    if 0 <= new_row < GRID and 0 <= new_col < GRID:\n",
    "        return new_row * GRID + new_col, -1\n",
    "    else:\n",
    "        return state, -1\n",
    "\n",
    "v = np.zeros(N_STATES)\n",
    "\n",
    "def policy_evaluation(v, policy, delta):\n",
    "    while delta >= THETA:\n",
    "        delta = 0\n",
    "        for s in range(N_STATES):\n",
    "            v_old = v[s]\n",
    "            v_new = 0\n",
    "            for a in range(len(ACTIONS)):\n",
    "                new_s, reward = step(s, ACTIONS[a])\n",
    "                v_new +=  get_prob_policy(policy, s, a) * (reward + GAMMA * v[new_s])\n",
    "            v[s] = v_new\n",
    "            delta = max(delta, abs(v_old - v[s]))"
   ]
  },
  {
   "cell_type": "code",
   "execution_count": 117,
   "id": "e71e4812",
   "metadata": {},
   "outputs": [],
   "source": [
    "#Policy Improvement\n",
    "def policy_improvement(policy, state_value):\n",
    "    for state in range(N_STATES):\n",
    "        if state == 0 or state == N_STATES-1:\n",
    "            continue\n",
    "        \n",
    "        row, col = divmod(state, GRID)\n",
    "        n_states = [(row+1, col), (row-1, col), (row, col-1), (row, col+1)]\n",
    "        n_state_values = [GAMMA*state_value[r][c]-1 if 0 <= r < GRID and 0 <= c < GRID else float(\"-inf\") for r, c in n_states]\n",
    "        best_actions = numpy_argmax_all_indices(np.array(n_state_values))\n",
    "        policy[state] = best_actions"
   ]
  },
  {
   "cell_type": "code",
   "execution_count": 124,
   "id": "efa93459",
   "metadata": {},
   "outputs": [],
   "source": [
    "#Policy Iteration\n",
    "def policy_iteration(policy, delta):\n",
    "    counter = 0\n",
    "    policy_unstable = True\n",
    "    old_policy = policy.copy()\n",
    "    while policy_unstable:\n",
    "        counter += 1\n",
    "        state_value = np.zeros(N_STATES)\n",
    "        policy_evaluation(state_value, old_policy, delta)\n",
    "        new_policy = old_policy.copy()\n",
    "        policy_improvement(new_policy, np.round(state_value.reshape(GRID, GRID)))\n",
    "        if new_policy == old_policy:\n",
    "            policy_unstable = False\n",
    "        else:\n",
    "            old_policy = new_policy\n",
    "\n",
    "    print('Iterations: ', counter)\n",
    "    return new_policy\n",
    "        "
   ]
  },
  {
   "cell_type": "code",
   "execution_count": 126,
   "id": "219be8dd",
   "metadata": {},
   "outputs": [
    {
     "name": "stdout",
     "output_type": "stream",
     "text": [
      "Iterations:  3\n"
     ]
    }
   ],
   "source": [
    "optimized_policy = policy_iteration(r_policy, 0.01)"
   ]
  },
  {
   "cell_type": "code",
   "execution_count": 127,
   "id": "8965a829",
   "metadata": {},
   "outputs": [
    {
     "data": {
      "text/plain": [
       "2"
      ]
     },
     "execution_count": 127,
     "metadata": {},
     "output_type": "execute_result"
    }
   ],
   "source": [
    "np.random.poisson(3)"
   ]
  }
 ],
 "metadata": {
  "kernelspec": {
   "display_name": "Python 3",
   "language": "python",
   "name": "python3"
  },
  "language_info": {
   "codemirror_mode": {
    "name": "ipython",
    "version": 3
   },
   "file_extension": ".py",
   "mimetype": "text/x-python",
   "name": "python",
   "nbconvert_exporter": "python",
   "pygments_lexer": "ipython3",
   "version": "3.13.2"
  }
 },
 "nbformat": 4,
 "nbformat_minor": 5
}
