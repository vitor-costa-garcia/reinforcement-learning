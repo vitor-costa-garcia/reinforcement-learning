{
 "cells": [
  {
   "cell_type": "code",
   "execution_count": null,
   "id": "a1a76e0d",
   "metadata": {},
   "outputs": [],
   "source": [
    "import numpy as np\n",
    "import random as rnd\n",
    "CARDS = [\"Ace\", \"Two\", \"Three\", \"Four\", \"Five\", \"Six\", \"Seven\", \"Eight\", \"Nine\", \"Ten\", \"Queen\", \"Jack\", \"King\"]"
   ]
  },
  {
   "cell_type": "code",
   "execution_count": null,
   "id": "0c6b8ff8",
   "metadata": {},
   "outputs": [],
   "source": [
    "#Monte Carlo ES\n",
    "\n",
    "def mc_es(runs = 10000):\n",
    "    policy = np.zeros(shape=(10,10,2))\n",
    "    action_val = np.zeros(shape=(10,10,2,2))\n",
    "    returns = np.zeros(shape=(10,10,2,2))\n",
    "\n",
    "    for _ in range(runs):\n",
    "        random_state = {\n",
    "            \"hand_sum\": np.random.randint(12,22),\n",
    "            \"dealer_card\": CARDS[np.random.randint(0,13)],\n",
    "            \"usable_aces\": np.random.randint(0, 2),\n",
    "        }"
   ]
  }
 ],
 "metadata": {
  "kernelspec": {
   "display_name": "Python 3",
   "language": "python",
   "name": "python3"
  },
  "language_info": {
   "codemirror_mode": {
    "name": "ipython",
    "version": 3
   },
   "file_extension": ".py",
   "mimetype": "text/x-python",
   "name": "python",
   "nbconvert_exporter": "python",
   "pygments_lexer": "ipython3",
   "version": "3.13.2"
  }
 },
 "nbformat": 4,
 "nbformat_minor": 5
}
