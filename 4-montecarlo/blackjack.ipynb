{
 "cells": [
  {
   "cell_type": "code",
   "execution_count": 7,
   "id": "f5e42ad0",
   "metadata": {},
   "outputs": [],
   "source": [
    "import numpy as np\n",
    "SUITS = [\"Diamonds\", \"Spades\", \"Hearts\", \"Clubs\"]\n",
    "VALUES = {\"Ace\":11, \"Two\":2, \"Three\":3, \"Four\":4, \"Five\":5, \"Six\":6, \"Seven\":7, \"Eight\":8, \"Nine\":9, \"Ten\":10, \"Queen\":10, \"Jack\":10, \"King\":10}\n",
    "ACTIONS = [\"HIT\", \"STICK\"]"
   ]
  },
  {
   "cell_type": "code",
   "execution_count": 8,
   "id": "4c9e1c74",
   "metadata": {},
   "outputs": [],
   "source": [
    "class Card:\n",
    "    def __init__(self, suit, value, points):\n",
    "        self.suit = suit\n",
    "        self.value = value\n",
    "        self.points = points\n",
    "\n",
    "    def __str__(self):\n",
    "        return f\"{self.value} of {self.suit}\"\n",
    "    \n",
    "class Person:\n",
    "    def __init__(self):\n",
    "        self.hand = []\n",
    "        self.hand_val = 0\n",
    "        self.usable_aces = 0\n",
    "        self.status = 1 # 1 -> still playing | 0 -> busted\n",
    "\n",
    "    def add_card(self, card):\n",
    "        self.hand.append(card)\n",
    "        self.hand_val += card.points\n",
    "\n",
    "        if card.value == \"Ace\":\n",
    "            self.usable_aces += 1\n",
    "\n",
    "        if self.hand_val > 21:\n",
    "            if self.usable_aces > 0:\n",
    "                self.hand_val -= 10\n",
    "                self.usable_aces -= 1\n",
    "            else:\n",
    "                self.status = 0\n",
    "\n",
    "    \n",
    "deck = []\n",
    "for suit in SUITS:\n",
    "    for value in VALUES:\n",
    "        deck.append(Card(suit, value, VALUES[value]))"
   ]
  },
  {
   "cell_type": "code",
   "execution_count": null,
   "id": "05122488",
   "metadata": {},
   "outputs": [],
   "source": []
  }
 ],
 "metadata": {
  "kernelspec": {
   "display_name": "Python 3",
   "language": "python",
   "name": "python3"
  },
  "language_info": {
   "codemirror_mode": {
    "name": "ipython",
    "version": 3
   },
   "file_extension": ".py",
   "mimetype": "text/x-python",
   "name": "python",
   "nbconvert_exporter": "python",
   "pygments_lexer": "ipython3",
   "version": "3.13.2"
  }
 },
 "nbformat": 4,
 "nbformat_minor": 5
}
