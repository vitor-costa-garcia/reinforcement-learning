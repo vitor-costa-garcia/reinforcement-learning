{
 "cells": [
  {
   "cell_type": "code",
   "execution_count": 6,
   "id": "9f33f921",
   "metadata": {},
   "outputs": [],
   "source": [
    "import numpy as np\n",
    "import random as rd"
   ]
  },
  {
   "cell_type": "code",
   "execution_count": 22,
   "id": "9cbded2b",
   "metadata": {},
   "outputs": [],
   "source": [
    "def generateStepRandomWalk(pos, action_prob):\n",
    "    s = pos\n",
    "    pos += rd.choices([-1, 1], action_prob)[0]\n",
    "    if pos == 3:\n",
    "        return (s, 1, pos) #S, R, S'\n",
    "    return (s, 0, pos)"
   ]
  },
  {
   "cell_type": "code",
   "execution_count": 96,
   "id": "82cf5f05",
   "metadata": {},
   "outputs": [],
   "source": [
    "state_val = [0 for _ in range(7)]\n",
    "def tdZero(state_val, a, episodes, gamma):\n",
    "    for _ in range(episodes):\n",
    "        s = 0\n",
    "        while True:\n",
    "            olds, r, s, = generateStepRandomWalk(s, [0.5, 0.5])\n",
    "            state_val[olds+3] += a*(r + gamma*state_val[s+3] - state_val[olds+3])\n",
    "            if s in [-3, 3]:\n",
    "                break\n",
    "\n",
    "tdZero(state_val, 0.1, 100, 1)"
   ]
  },
  {
   "cell_type": "code",
   "execution_count": 94,
   "id": "8cd3aa15",
   "metadata": {},
   "outputs": [],
   "source": [
    "state_val = [0 for _ in range(7)]\n",
    "def constaMC(state_val, a, episodes):\n",
    "    for _ in range(episodes):\n",
    "        episode = []\n",
    "        olds, r, s = 0, 0, 0\n",
    "        while s not in [-3, 3]:\n",
    "            olds, r, s = generateStepRandomWalk(s, [0.5, 0.5])\n",
    "            episode.insert(0, (olds, r, s))\n",
    "        gt = 0\n",
    "        for olds, r, s in episode:\n",
    "            gt += r\n",
    "            state_val[olds+3] += a*(gt - state_val[olds+3])\n",
    "\n",
    "constaMC(state_val, 0.1, 100)"
   ]
  },
  {
   "cell_type": "code",
   "execution_count": 97,
   "id": "d65be327",
   "metadata": {},
   "outputs": [
    {
     "data": {
      "text/plain": [
       "[0,\n",
       " 0.06434262091597277,\n",
       " 0.1698504848663246,\n",
       " 0.3632291172458551,\n",
       " 0.5292400374866731,\n",
       " 0.8555594756535647,\n",
       " 0]"
      ]
     },
     "execution_count": 97,
     "metadata": {},
     "output_type": "execute_result"
    }
   ],
   "source": [
    "state_val"
   ]
  },
  {
   "cell_type": "code",
   "execution_count": null,
   "id": "841f5816",
   "metadata": {},
   "outputs": [],
   "source": []
  }
 ],
 "metadata": {
  "kernelspec": {
   "display_name": "Python 3",
   "language": "python",
   "name": "python3"
  },
  "language_info": {
   "codemirror_mode": {
    "name": "ipython",
    "version": 3
   },
   "file_extension": ".py",
   "mimetype": "text/x-python",
   "name": "python",
   "nbconvert_exporter": "python",
   "pygments_lexer": "ipython3",
   "version": "3.13.2"
  }
 },
 "nbformat": 4,
 "nbformat_minor": 5
}
