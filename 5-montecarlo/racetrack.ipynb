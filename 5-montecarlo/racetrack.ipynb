{
 "cells": [
  {
   "cell_type": "code",
   "execution_count": 3,
   "id": "dfba971c",
   "metadata": {},
   "outputs": [],
   "source": [
    "import numpy as np\n",
    "import matplotlib.pyplot as plt"
   ]
  },
  {
   "cell_type": "code",
   "execution_count": 4,
   "id": "52ce9c31",
   "metadata": {},
   "outputs": [],
   "source": [
    "racetrack = [[' ' for _ in range(10)] for i in range(20)]"
   ]
  },
  {
   "cell_type": "code",
   "execution_count": 5,
   "id": "784f5499",
   "metadata": {},
   "outputs": [],
   "source": [
    "racetrack = [\n",
    " ['#', '#', '#', '#', '#', '#', '#', ' ', ' ', 'F'],\n",
    " ['#', '#', '#', '#', '#', '#', '#', ' ', ' ', 'F'],\n",
    " ['#', '#', '#', '#', '#', '#', '#', ' ', ' ', 'F'],\n",
    " ['#', '#', '#', '#', '#', '#', ' ', ' ', ' ', 'F'],\n",
    " ['#', '#', '#', '#', '#', ' ', ' ', ' ', ' ', 'F'],\n",
    " ['#', '#', '#', '#', '#', ' ', ' ', ' ', '#', '#'],\n",
    " ['#', '#', '#', '#', ' ', ' ', ' ', ' ', '#', '#'],\n",
    " ['#', '#', '#', '#', ' ', ' ', ' ', '#', '#', '#'],\n",
    " ['#', '#', '#', ' ', ' ', ' ', ' ', '#', '#', '#'],\n",
    " ['#', '#', ' ', ' ', ' ', ' ', ' ', '#', '#', '#'],\n",
    " ['#', '#', ' ', ' ', ' ', ' ', ' ', '#', '#', '#'],\n",
    " ['#', '#', ' ', ' ', ' ', ' ', ' ', '#', '#', '#'],\n",
    " ['#', '#', ' ', ' ', ' ', ' ', '#', '#', '#', '#'],\n",
    " ['#', '#', ' ', ' ', ' ', ' ', '#', '#', '#', '#'],\n",
    " ['#', '#', ' ', ' ', ' ', ' ', '#', '#', '#', '#'],\n",
    " ['#', '#', ' ', ' ', ' ', ' ', '#', '#', '#', '#'],\n",
    " ['#', '#', ' ', ' ', ' ', ' ', '#', '#', '#', '#'],\n",
    " ['#', '#', ' ', ' ', ' ', ' ', '#', '#', '#', '#'],\n",
    " ['#', '#', ' ', ' ', ' ', ' ', '#', '#', '#', '#'],\n",
    " ['#', '#', 'S', 'S', 'S', 'S', '#', '#', '#', '#']\n",
    "]\n",
    "\n",
    "start_range = [[19, 2], [19, 5]]\n",
    "fisish_range = [[0, 9], [4, 9]]"
   ]
  },
  {
   "cell_type": "code",
   "execution_count": null,
   "id": "b8c10856",
   "metadata": {},
   "outputs": [],
   "source": [
    "q_table = np.zeros(shape=(10, 20, 5, 5, 3, 3))\n",
    "policy = np.zeros(shape=(10, 20, 5, 5, 2))"
   ]
  },
  {
   "cell_type": "code",
   "execution_count": null,
   "id": "602376fd",
   "metadata": {},
   "outputs": [],
   "source": [
    "class Racetrack_Env:\n",
    "    def __init__(self, racetrack, start_range, end_range):\n",
    "        self.track = racetrack\n",
    "        self.start_range = start_range\n",
    "        self.end_range = end_range\n",
    "\n",
    "    def run_episode(self, policy):\n",
    "        episode = []\n",
    "\n",
    "        if start_range[0][0] == start_range[1][0]:\n",
    "            current_pos = [start_range[0], np.random.randint(start_range[0][1], start_range[1][1]+1)]\n",
    "        else:\n",
    "            current_pos = [np.random.randint(start_range[0][0], start_range[1][0]+1), start_range[1]]\n",
    "        current_v = np.array([0,0])\n",
    "\n",
    "        while self.racetrack[current_pos[0]][current_pos[1]] != 'F':\n",
    "            action = policy[current_pos[0]][current_pos[1]][current_v[0]][current_v[1]]\n",
    "            current_v += action\n",
    "            if current_v[0] > 4 or current_v[0] <= 0:\n",
    "            \n",
    "\n",
    "\n",
    "\n",
    "        \n",
    "\n",
    "        "
   ]
  },
  {
   "cell_type": "code",
   "execution_count": null,
   "id": "25afda13",
   "metadata": {},
   "outputs": [],
   "source": []
  }
 ],
 "metadata": {
  "kernelspec": {
   "display_name": "Python 3",
   "language": "python",
   "name": "python3"
  },
  "language_info": {
   "codemirror_mode": {
    "name": "ipython",
    "version": 3
   },
   "file_extension": ".py",
   "mimetype": "text/x-python",
   "name": "python",
   "nbconvert_exporter": "python",
   "pygments_lexer": "ipython3",
   "version": "3.13.2"
  }
 },
 "nbformat": 4,
 "nbformat_minor": 5
}
