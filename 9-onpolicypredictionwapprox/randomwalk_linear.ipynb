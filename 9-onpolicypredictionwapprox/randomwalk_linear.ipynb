{
 "cells": [
  {
   "cell_type": "code",
   "execution_count": null,
   "id": "c2c5625b",
   "metadata": {},
   "outputs": [],
   "source": [
    "import numpy as np\n",
    "from random import randint\n",
    "import matplotlib.pyplot as plt"
   ]
  },
  {
   "cell_type": "code",
   "execution_count": 35,
   "id": "e6286bf1",
   "metadata": {},
   "outputs": [],
   "source": [
    "LR = 0.00002\n",
    "DF = 1\n",
    "\n",
    "def update_rule(r, v_w, v_xs, v_nxs):\n",
    "    return v_w + np.dot(LR*(r + DF * np.dot(v_w.transpose(), v_nxs) - np.dot(v_w.transpose(), v_xs)), v_xs)"
   ]
  },
  {
   "cell_type": "code",
   "execution_count": 42,
   "id": "0f909b95",
   "metadata": {},
   "outputs": [
    {
     "name": "stdout",
     "output_type": "stream",
     "text": [
      "i:0, v_w:[0.e+00 0.e+00 0.e+00 0.e+00 0.e+00 0.e+00 0.e+00 0.e+00 0.e+00 2.e-05]\n",
      "i:20000, v_w:[-0.17788098 -0.03328291 -0.00678216 -0.00141655 -0.0002531   0.00021347\n",
      "  0.00133748  0.0065555   0.03294699  0.1757891 ]\n",
      "i:40000, v_w:[-0.32334883 -0.09824387 -0.0320429  -0.01062938 -0.00264968  0.00223437\n",
      "  0.01034405  0.0316818   0.09716843  0.3215808 ]\n",
      "i:60000, v_w:[-0.44975222 -0.17264233 -0.0707541  -0.02843161 -0.00828195  0.00653397\n",
      "  0.02775441  0.06957744  0.17086863  0.44964857]\n",
      "i:80000, v_w:[-0.56726522 -0.24766918 -0.11583813 -0.05253004 -0.01632675  0.01243789\n",
      "  0.05037588  0.11514437  0.24770765  0.56323094]\n"
     ]
    }
   ],
   "source": [
    "LR = 0.00002\n",
    "DF = 1\n",
    "\n",
    "def update_rule(r, v_w, v_xs, v_nxs):\n",
    "    return v_w + np.dot(LR*(r + DF * np.dot(v_w.transpose(), v_nxs) - np.dot(v_w.transpose(), v_xs)), v_xs)\n",
    "\n",
    "def random_walk(curr_state):\n",
    "    states_walked = randint(-100,100)\n",
    "    next_state = curr_state + states_walked\n",
    "    v_xs = np.zeros(10)\n",
    "    \n",
    "    if next_state >= 1000:\n",
    "        v_xs[9] = 1\n",
    "        return 1, next_state, v_xs\n",
    "\n",
    "    if next_state <= 0:\n",
    "        v_xs[0] = 1\n",
    "        return -1, next_state, v_xs\n",
    "\n",
    "    v_xs[next_state//100] = 1\n",
    "    return 0, next_state, v_xs\n",
    "\n",
    "v_w = np.zeros(10)\n",
    "\n",
    "for i in range(100000):\n",
    "    curr_state = 500\n",
    "    v_xs = np.zeros(10)\n",
    "    v_xs[curr_state//100] = 1\n",
    "\n",
    "    while curr_state > 0 and curr_state < 1000:\n",
    "        reward, next_state, v_nxs = random_walk(curr_state)\n",
    "        v_w = update_rule(reward, v_w, v_xs, v_nxs)\n",
    "        v_xs = v_nxs\n",
    "        curr_state = next_state \n",
    "    if i%20000==0:\n",
    "        print(f\"i:{i}, v_w:{v_w}\")"
   ]
  },
  {
   "cell_type": "code",
   "execution_count": 41,
   "id": "59be654a",
   "metadata": {},
   "outputs": [
    {
     "data": {
      "text/plain": [
       "[<matplotlib.lines.Line2D at 0x22ce4e516d0>]"
      ]
     },
     "execution_count": 41,
     "metadata": {},
     "output_type": "execute_result"
    },
    {
     "data": {
      "image/png": "[encoded data removed]",
      "text/plain": [
       "<Figure size 640x480 with 1 Axes>"
      ]
     },
     "metadata": {},
     "output_type": "display_data"
    }
   ],
   "source": [
    "plt.plot(v_w)"
   ]
  }
 ],
 "metadata": {
  "kernelspec": {
   "display_name": "Python 3",
   "language": "python",
   "name": "python3"
  },
  "language_info": {
   "codemirror_mode": {
    "name": "ipython",
    "version": 3
   },
   "file_extension": ".py",
   "mimetype": "text/x-python",
   "name": "python",
   "nbconvert_exporter": "python",
   "pygments_lexer": "ipython3",
   "version": "3.13.7"
  }
 },
 "nbformat": 4,
 "nbformat_minor": 5
}
